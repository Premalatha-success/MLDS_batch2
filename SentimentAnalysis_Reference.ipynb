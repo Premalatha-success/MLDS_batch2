{
 "cells": [
  {
   "cell_type": "code",
   "execution_count": 1,
   "id": "6c01ee8b-5fc4-4a5b-b8a1-24b5ca4bf299",
   "metadata": {},
   "outputs": [],
   "source": [
    "import pandas as pd\n",
    "import numpy as np\n",
    "from sklearn.model_selection import train_test_split\n",
    "from sklearn.feature_extraction.text import TfidfVectorizer\n",
    "from sklearn.preprocessing import LabelEncoder\n",
    "from sklearn.ensemble import RandomForestClassifier\n",
    "from sklearn.metrics import accuracy_score"
   ]
  },
  {
   "cell_type": "code",
   "execution_count": 2,
   "id": "3de5ef3d-048c-4c49-aac2-9dd96cddc404",
   "metadata": {},
   "outputs": [
    {
     "data": {
      "text/html": [
       "<div>\n",
       "<style scoped>\n",
       "    .dataframe tbody tr th:only-of-type {\n",
       "        vertical-align: middle;\n",
       "    }\n",
       "\n",
       "    .dataframe tbody tr th {\n",
       "        vertical-align: top;\n",
       "    }\n",
       "\n",
       "    .dataframe thead th {\n",
       "        text-align: right;\n",
       "    }\n",
       "</style>\n",
       "<table border=\"1\" class=\"dataframe\">\n",
       "  <thead>\n",
       "    <tr style=\"text-align: right;\">\n",
       "      <th></th>\n",
       "      <th>Date</th>\n",
       "      <th>Label</th>\n",
       "      <th>Top1</th>\n",
       "      <th>Top2</th>\n",
       "      <th>Top3</th>\n",
       "      <th>Top4</th>\n",
       "      <th>Top5</th>\n",
       "      <th>Top6</th>\n",
       "      <th>Top7</th>\n",
       "      <th>Top8</th>\n",
       "      <th>...</th>\n",
       "      <th>Top16</th>\n",
       "      <th>Top17</th>\n",
       "      <th>Top18</th>\n",
       "      <th>Top19</th>\n",
       "      <th>Top20</th>\n",
       "      <th>Top21</th>\n",
       "      <th>Top22</th>\n",
       "      <th>Top23</th>\n",
       "      <th>Top24</th>\n",
       "      <th>Top25</th>\n",
       "    </tr>\n",
       "  </thead>\n",
       "  <tbody>\n",
       "    <tr>\n",
       "      <th>0</th>\n",
       "      <td>2000-01-03</td>\n",
       "      <td>0</td>\n",
       "      <td>A 'hindrance to operations': extracts from the...</td>\n",
       "      <td>Scorecard</td>\n",
       "      <td>Hughes' instant hit buoys Blues</td>\n",
       "      <td>Jack gets his skates on at ice-cold Alex</td>\n",
       "      <td>Chaos as Maracana builds up for United</td>\n",
       "      <td>Depleted Leicester prevail as Elliott spoils E...</td>\n",
       "      <td>Hungry Spurs sense rich pickings</td>\n",
       "      <td>Gunners so wide of an easy target</td>\n",
       "      <td>...</td>\n",
       "      <td>Flintoff injury piles on woe for England</td>\n",
       "      <td>Hunters threaten Jospin with new battle of the...</td>\n",
       "      <td>Kohl's successor drawn into scandal</td>\n",
       "      <td>The difference between men and women</td>\n",
       "      <td>Sara Denver, nurse turned solicitor</td>\n",
       "      <td>Diana's landmine crusade put Tories in a panic</td>\n",
       "      <td>Yeltsin's resignation caught opposition flat-f...</td>\n",
       "      <td>Russian roulette</td>\n",
       "      <td>Sold out</td>\n",
       "      <td>Recovering a title</td>\n",
       "    </tr>\n",
       "    <tr>\n",
       "      <th>1</th>\n",
       "      <td>2000-01-04</td>\n",
       "      <td>0</td>\n",
       "      <td>Scorecard</td>\n",
       "      <td>The best lake scene</td>\n",
       "      <td>Leader: German sleaze inquiry</td>\n",
       "      <td>Cheerio, boyo</td>\n",
       "      <td>The main recommendations</td>\n",
       "      <td>Has Cubie killed fees?</td>\n",
       "      <td>Has Cubie killed fees?</td>\n",
       "      <td>Has Cubie killed fees?</td>\n",
       "      <td>...</td>\n",
       "      <td>On the critical list</td>\n",
       "      <td>The timing of their lives</td>\n",
       "      <td>Dear doctor</td>\n",
       "      <td>Irish court halts IRA man's extradition to Nor...</td>\n",
       "      <td>Burundi peace initiative fades after rebels re...</td>\n",
       "      <td>PE points the way forward to the ECB</td>\n",
       "      <td>Campaigners keep up pressure on Nazi war crime...</td>\n",
       "      <td>Jane Ratcliffe</td>\n",
       "      <td>Yet more things you wouldn't know without the ...</td>\n",
       "      <td>Millennium bug fails to bite</td>\n",
       "    </tr>\n",
       "    <tr>\n",
       "      <th>2</th>\n",
       "      <td>2000-01-05</td>\n",
       "      <td>0</td>\n",
       "      <td>Coventry caught on counter by Flo</td>\n",
       "      <td>United's rivals on the road to Rio</td>\n",
       "      <td>Thatcher issues defence before trial by video</td>\n",
       "      <td>Police help Smith lay down the law at Everton</td>\n",
       "      <td>Tale of Trautmann bears two more retellings</td>\n",
       "      <td>England on the rack</td>\n",
       "      <td>Pakistan retaliate with call for video of Walsh</td>\n",
       "      <td>Cullinan continues his Cape monopoly</td>\n",
       "      <td>...</td>\n",
       "      <td>South Melbourne (Australia)</td>\n",
       "      <td>Necaxa (Mexico)</td>\n",
       "      <td>Real Madrid (Spain)</td>\n",
       "      <td>Raja Casablanca (Morocco)</td>\n",
       "      <td>Corinthians (Brazil)</td>\n",
       "      <td>Tony's pet project</td>\n",
       "      <td>Al Nassr (Saudi Arabia)</td>\n",
       "      <td>Ideal Holmes show</td>\n",
       "      <td>Pinochet leaves hospital after tests</td>\n",
       "      <td>Useful links</td>\n",
       "    </tr>\n",
       "    <tr>\n",
       "      <th>3</th>\n",
       "      <td>2000-01-06</td>\n",
       "      <td>1</td>\n",
       "      <td>Pilgrim knows how to progress</td>\n",
       "      <td>Thatcher facing ban</td>\n",
       "      <td>McIlroy calls for Irish fighting spirit</td>\n",
       "      <td>Leicester bin stadium blueprint</td>\n",
       "      <td>United braced for Mexican wave</td>\n",
       "      <td>Auntie back in fashion, even if the dress look...</td>\n",
       "      <td>Shoaib appeal goes to the top</td>\n",
       "      <td>Hussain hurt by 'shambles' but lays blame on e...</td>\n",
       "      <td>...</td>\n",
       "      <td>Putin admits Yeltsin quit to give him a head s...</td>\n",
       "      <td>BBC worst hit as digital TV begins to bite</td>\n",
       "      <td>How much can you pay for...</td>\n",
       "      <td>Christmas glitches</td>\n",
       "      <td>Upending a table, Chopping a line and Scoring ...</td>\n",
       "      <td>Scientific evidence 'unreliable', defence claims</td>\n",
       "      <td>Fusco wins judicial review in extradition case</td>\n",
       "      <td>Rebels thwart Russian advance</td>\n",
       "      <td>Blair orders shake-up of failing NHS</td>\n",
       "      <td>Lessons of law's hard heart</td>\n",
       "    </tr>\n",
       "    <tr>\n",
       "      <th>4</th>\n",
       "      <td>2000-01-07</td>\n",
       "      <td>1</td>\n",
       "      <td>Hitches and Horlocks</td>\n",
       "      <td>Beckham off but United survive</td>\n",
       "      <td>Breast cancer screening</td>\n",
       "      <td>Alan Parker</td>\n",
       "      <td>Guardian readers: are you all whingers?</td>\n",
       "      <td>Hollywood Beyond</td>\n",
       "      <td>Ashes and diamonds</td>\n",
       "      <td>Whingers - a formidable minority</td>\n",
       "      <td>...</td>\n",
       "      <td>Most everywhere:  UDIs</td>\n",
       "      <td>Most wanted:  Chloe lunettes</td>\n",
       "      <td>Return of the cane 'completely off the agenda'</td>\n",
       "      <td>From Sleepy Hollow to Greeneland</td>\n",
       "      <td>Blunkett outlines vision for over 11s</td>\n",
       "      <td>Embattled Dobson attacks 'play now, pay later'...</td>\n",
       "      <td>Doom and the Dome</td>\n",
       "      <td>What is the north-south divide?</td>\n",
       "      <td>Aitken released from jail</td>\n",
       "      <td>Gone aloft</td>\n",
       "    </tr>\n",
       "    <tr>\n",
       "      <th>...</th>\n",
       "      <td>...</td>\n",
       "      <td>...</td>\n",
       "      <td>...</td>\n",
       "      <td>...</td>\n",
       "      <td>...</td>\n",
       "      <td>...</td>\n",
       "      <td>...</td>\n",
       "      <td>...</td>\n",
       "      <td>...</td>\n",
       "      <td>...</td>\n",
       "      <td>...</td>\n",
       "      <td>...</td>\n",
       "      <td>...</td>\n",
       "      <td>...</td>\n",
       "      <td>...</td>\n",
       "      <td>...</td>\n",
       "      <td>...</td>\n",
       "      <td>...</td>\n",
       "      <td>...</td>\n",
       "      <td>...</td>\n",
       "      <td>...</td>\n",
       "    </tr>\n",
       "    <tr>\n",
       "      <th>4096</th>\n",
       "      <td>2016-06-27</td>\n",
       "      <td>0</td>\n",
       "      <td>Barclays and RBS shares suspended from trading...</td>\n",
       "      <td>Pope says Church should ask forgiveness from g...</td>\n",
       "      <td>Poland 'shocked' by xenophobic abuse of Poles ...</td>\n",
       "      <td>There will be no second referendum, cabinet ag...</td>\n",
       "      <td>Scotland welcome to join EU, Merkel ally says</td>\n",
       "      <td>Sterling dips below Friday's 31-year low amid ...</td>\n",
       "      <td>No negative news about South African President...</td>\n",
       "      <td>Surge in Hate Crimes in the U.K. Following U.K...</td>\n",
       "      <td>...</td>\n",
       "      <td>German lawyers to probe Erdogan over alleged w...</td>\n",
       "      <td>Boris Johnson says the UK will continue to \"in...</td>\n",
       "      <td>Richard Branson is calling on the UK governmen...</td>\n",
       "      <td>Turkey 'sorry for downing Russian jet'</td>\n",
       "      <td>Edward Snowden lawyer vows new push for pardon...</td>\n",
       "      <td>Brexit opinion poll reveals majority don't wan...</td>\n",
       "      <td>Conservative MP Leave Campaigner: \"The leave c...</td>\n",
       "      <td>Economists predict UK recession, further weake...</td>\n",
       "      <td>New EU 'superstate plan by France, Germany: Cr...</td>\n",
       "      <td>Pakistani clerics declare transgender marriage...</td>\n",
       "    </tr>\n",
       "    <tr>\n",
       "      <th>4097</th>\n",
       "      <td>2016-06-28</td>\n",
       "      <td>1</td>\n",
       "      <td>2,500 Scientists To Australia: If You Want To ...</td>\n",
       "      <td>The personal details of 112,000 French police ...</td>\n",
       "      <td>S&amp;amp;P cuts United Kingdom sovereign credit r...</td>\n",
       "      <td>Huge helium deposit found in Africa</td>\n",
       "      <td>CEO of the South African state broadcaster qui...</td>\n",
       "      <td>Brexit cost investors $2 trillion, the worst o...</td>\n",
       "      <td>Hong Kong democracy activists call for return ...</td>\n",
       "      <td>Brexit: Iceland president says UK can join 'tr...</td>\n",
       "      <td>...</td>\n",
       "      <td>US, Canada and Mexico pledge 50% of power from...</td>\n",
       "      <td>There is increasing evidence that Australia is...</td>\n",
       "      <td>Richard Branson, the founder of Virgin Group, ...</td>\n",
       "      <td>37,000-yr-old skull from Borneo reveals surpri...</td>\n",
       "      <td>Palestinians stone Western Wall worshipers; po...</td>\n",
       "      <td>Jean-Claude Juncker asks Farage: Why are you h...</td>\n",
       "      <td>\"Romanians for Remainians\" offering a new home...</td>\n",
       "      <td>Brexit: Gibraltar in talks with Scotland to st...</td>\n",
       "      <td>8 Suicide Bombers Strike Lebanon</td>\n",
       "      <td>Mexico's security forces routinely use 'sexual...</td>\n",
       "    </tr>\n",
       "    <tr>\n",
       "      <th>4098</th>\n",
       "      <td>2016-06-29</td>\n",
       "      <td>1</td>\n",
       "      <td>Explosion At Airport In Istanbul</td>\n",
       "      <td>Yemeni former president: Terrorism is the offs...</td>\n",
       "      <td>UK must accept freedom of movement to access E...</td>\n",
       "      <td>Devastated: scientists too late to captive bre...</td>\n",
       "      <td>British Labor Party leader Jeremy Corbyn loses...</td>\n",
       "      <td>A Muslim Shop in the UK Was Just Firebombed Wh...</td>\n",
       "      <td>Mexican Authorities Sexually Torture Women in ...</td>\n",
       "      <td>UK shares and pound continue to recover</td>\n",
       "      <td>...</td>\n",
       "      <td>Escape Tunnel, Dug by Hand, Is Found at Holoca...</td>\n",
       "      <td>The land under Beijing is sinking by as much a...</td>\n",
       "      <td>Car bomb and Anti-Islamic attack on Mosque in ...</td>\n",
       "      <td>Emaciated lions in Taiz Zoo are trapped in blo...</td>\n",
       "      <td>Rupert Murdoch describes Brexit as 'wonderful'...</td>\n",
       "      <td>More than 40 killed in Yemen suicide attacks</td>\n",
       "      <td>Google Found Disastrous Symantec and Norton Vu...</td>\n",
       "      <td>Extremist violence on the rise in Germany: Dom...</td>\n",
       "      <td>BBC News: Labour MPs pass Corbyn no-confidence...</td>\n",
       "      <td>Tiny New Zealand town with 'too many jobs' lau...</td>\n",
       "    </tr>\n",
       "    <tr>\n",
       "      <th>4099</th>\n",
       "      <td>2016-06-30</td>\n",
       "      <td>1</td>\n",
       "      <td>Jamaica proposes marijuana dispensers for tour...</td>\n",
       "      <td>Stephen Hawking says pollution and 'stupidity'...</td>\n",
       "      <td>Boris Johnson says he will not run for Tory pa...</td>\n",
       "      <td>Six gay men in Ivory Coast were abused and for...</td>\n",
       "      <td>Switzerland denies citizenship to Muslim immig...</td>\n",
       "      <td>Palestinian terrorist stabs israeli teen girl ...</td>\n",
       "      <td>Puerto Rico will default on $1 billion of debt...</td>\n",
       "      <td>Republic of Ireland fans to be awarded medal f...</td>\n",
       "      <td>...</td>\n",
       "      <td>Googles free wifi at Indian railway stations i...</td>\n",
       "      <td>Mounting evidence suggests 'hobbits' were wipe...</td>\n",
       "      <td>The men who carried out Tuesday's terror attac...</td>\n",
       "      <td>Calls to suspend Saudi Arabia from UN Human Ri...</td>\n",
       "      <td>More Than 100 Nobel Laureates Call Out Greenpe...</td>\n",
       "      <td>British pedophile sentenced to 85 years in US ...</td>\n",
       "      <td>US permitted 1,200 offshore fracks in Gulf of ...</td>\n",
       "      <td>We will be swimming in ridicule - French beach...</td>\n",
       "      <td>UEFA says no minutes of silence for Istanbul v...</td>\n",
       "      <td>Law Enforcement Sources: Gun Used in Paris Ter...</td>\n",
       "    </tr>\n",
       "    <tr>\n",
       "      <th>4100</th>\n",
       "      <td>2016-07-01</td>\n",
       "      <td>1</td>\n",
       "      <td>A 117-year-old woman in Mexico City finally re...</td>\n",
       "      <td>IMF chief backs Athens as permanent Olympic host</td>\n",
       "      <td>The president of France says if Brexit won, so...</td>\n",
       "      <td>British Man Who Must Give Police 24 Hours' Not...</td>\n",
       "      <td>100+ Nobel laureates urge Greenpeace to stop o...</td>\n",
       "      <td>Brazil: Huge spike in number of police killing...</td>\n",
       "      <td>Austria's highest court annuls presidential el...</td>\n",
       "      <td>Facebook wins privacy case, can track any Belg...</td>\n",
       "      <td>...</td>\n",
       "      <td>The United States has placed Myanmar, Uzbekist...</td>\n",
       "      <td>S&amp;amp;P revises European Union credit rating t...</td>\n",
       "      <td>India gets $1 billion loan from World Bank for...</td>\n",
       "      <td>U.S. sailors detained by Iran spoke too much u...</td>\n",
       "      <td>Mass fish kill in Vietnam solved as Taiwan ste...</td>\n",
       "      <td>Philippines president Rodrigo Duterte urges pe...</td>\n",
       "      <td>Spain arrests three Pakistanis accused of prom...</td>\n",
       "      <td>Venezuela, where anger over food shortages is ...</td>\n",
       "      <td>A Hindu temple worker has been killed by three...</td>\n",
       "      <td>Ozone layer hole seems to be healing - US &amp;amp...</td>\n",
       "    </tr>\n",
       "  </tbody>\n",
       "</table>\n",
       "<p>4101 rows × 27 columns</p>\n",
       "</div>"
      ],
      "text/plain": [
       "            Date  Label                                               Top1  \\\n",
       "0     2000-01-03      0  A 'hindrance to operations': extracts from the...   \n",
       "1     2000-01-04      0                                          Scorecard   \n",
       "2     2000-01-05      0                  Coventry caught on counter by Flo   \n",
       "3     2000-01-06      1                      Pilgrim knows how to progress   \n",
       "4     2000-01-07      1                               Hitches and Horlocks   \n",
       "...          ...    ...                                                ...   \n",
       "4096  2016-06-27      0  Barclays and RBS shares suspended from trading...   \n",
       "4097  2016-06-28      1  2,500 Scientists To Australia: If You Want To ...   \n",
       "4098  2016-06-29      1                   Explosion At Airport In Istanbul   \n",
       "4099  2016-06-30      1  Jamaica proposes marijuana dispensers for tour...   \n",
       "4100  2016-07-01      1  A 117-year-old woman in Mexico City finally re...   \n",
       "\n",
       "                                                   Top2  \\\n",
       "0                                             Scorecard   \n",
       "1                                   The best lake scene   \n",
       "2                    United's rivals on the road to Rio   \n",
       "3                                   Thatcher facing ban   \n",
       "4                        Beckham off but United survive   \n",
       "...                                                 ...   \n",
       "4096  Pope says Church should ask forgiveness from g...   \n",
       "4097  The personal details of 112,000 French police ...   \n",
       "4098  Yemeni former president: Terrorism is the offs...   \n",
       "4099  Stephen Hawking says pollution and 'stupidity'...   \n",
       "4100   IMF chief backs Athens as permanent Olympic host   \n",
       "\n",
       "                                                   Top3  \\\n",
       "0                       Hughes' instant hit buoys Blues   \n",
       "1                         Leader: German sleaze inquiry   \n",
       "2         Thatcher issues defence before trial by video   \n",
       "3               McIlroy calls for Irish fighting spirit   \n",
       "4                               Breast cancer screening   \n",
       "...                                                 ...   \n",
       "4096  Poland 'shocked' by xenophobic abuse of Poles ...   \n",
       "4097  S&amp;P cuts United Kingdom sovereign credit r...   \n",
       "4098  UK must accept freedom of movement to access E...   \n",
       "4099  Boris Johnson says he will not run for Tory pa...   \n",
       "4100  The president of France says if Brexit won, so...   \n",
       "\n",
       "                                                   Top4  \\\n",
       "0              Jack gets his skates on at ice-cold Alex   \n",
       "1                                         Cheerio, boyo   \n",
       "2         Police help Smith lay down the law at Everton   \n",
       "3                       Leicester bin stadium blueprint   \n",
       "4                                           Alan Parker   \n",
       "...                                                 ...   \n",
       "4096  There will be no second referendum, cabinet ag...   \n",
       "4097                Huge helium deposit found in Africa   \n",
       "4098  Devastated: scientists too late to captive bre...   \n",
       "4099  Six gay men in Ivory Coast were abused and for...   \n",
       "4100  British Man Who Must Give Police 24 Hours' Not...   \n",
       "\n",
       "                                                   Top5  \\\n",
       "0                Chaos as Maracana builds up for United   \n",
       "1                              The main recommendations   \n",
       "2           Tale of Trautmann bears two more retellings   \n",
       "3                        United braced for Mexican wave   \n",
       "4               Guardian readers: are you all whingers?   \n",
       "...                                                 ...   \n",
       "4096      Scotland welcome to join EU, Merkel ally says   \n",
       "4097  CEO of the South African state broadcaster qui...   \n",
       "4098  British Labor Party leader Jeremy Corbyn loses...   \n",
       "4099  Switzerland denies citizenship to Muslim immig...   \n",
       "4100  100+ Nobel laureates urge Greenpeace to stop o...   \n",
       "\n",
       "                                                   Top6  \\\n",
       "0     Depleted Leicester prevail as Elliott spoils E...   \n",
       "1                                Has Cubie killed fees?   \n",
       "2                                   England on the rack   \n",
       "3     Auntie back in fashion, even if the dress look...   \n",
       "4                                      Hollywood Beyond   \n",
       "...                                                 ...   \n",
       "4096  Sterling dips below Friday's 31-year low amid ...   \n",
       "4097  Brexit cost investors $2 trillion, the worst o...   \n",
       "4098  A Muslim Shop in the UK Was Just Firebombed Wh...   \n",
       "4099  Palestinian terrorist stabs israeli teen girl ...   \n",
       "4100  Brazil: Huge spike in number of police killing...   \n",
       "\n",
       "                                                   Top7  \\\n",
       "0                      Hungry Spurs sense rich pickings   \n",
       "1                                Has Cubie killed fees?   \n",
       "2       Pakistan retaliate with call for video of Walsh   \n",
       "3                         Shoaib appeal goes to the top   \n",
       "4                                    Ashes and diamonds   \n",
       "...                                                 ...   \n",
       "4096  No negative news about South African President...   \n",
       "4097  Hong Kong democracy activists call for return ...   \n",
       "4098  Mexican Authorities Sexually Torture Women in ...   \n",
       "4099  Puerto Rico will default on $1 billion of debt...   \n",
       "4100  Austria's highest court annuls presidential el...   \n",
       "\n",
       "                                                   Top8  ...  \\\n",
       "0                     Gunners so wide of an easy target  ...   \n",
       "1                                Has Cubie killed fees?  ...   \n",
       "2                  Cullinan continues his Cape monopoly  ...   \n",
       "3     Hussain hurt by 'shambles' but lays blame on e...  ...   \n",
       "4                      Whingers - a formidable minority  ...   \n",
       "...                                                 ...  ...   \n",
       "4096  Surge in Hate Crimes in the U.K. Following U.K...  ...   \n",
       "4097  Brexit: Iceland president says UK can join 'tr...  ...   \n",
       "4098            UK shares and pound continue to recover  ...   \n",
       "4099  Republic of Ireland fans to be awarded medal f...  ...   \n",
       "4100  Facebook wins privacy case, can track any Belg...  ...   \n",
       "\n",
       "                                                  Top16  \\\n",
       "0              Flintoff injury piles on woe for England   \n",
       "1                                  On the critical list   \n",
       "2                           South Melbourne (Australia)   \n",
       "3     Putin admits Yeltsin quit to give him a head s...   \n",
       "4                                Most everywhere:  UDIs   \n",
       "...                                                 ...   \n",
       "4096  German lawyers to probe Erdogan over alleged w...   \n",
       "4097  US, Canada and Mexico pledge 50% of power from...   \n",
       "4098  Escape Tunnel, Dug by Hand, Is Found at Holoca...   \n",
       "4099  Googles free wifi at Indian railway stations i...   \n",
       "4100  The United States has placed Myanmar, Uzbekist...   \n",
       "\n",
       "                                                  Top17  \\\n",
       "0     Hunters threaten Jospin with new battle of the...   \n",
       "1                             The timing of their lives   \n",
       "2                                       Necaxa (Mexico)   \n",
       "3            BBC worst hit as digital TV begins to bite   \n",
       "4                          Most wanted:  Chloe lunettes   \n",
       "...                                                 ...   \n",
       "4096  Boris Johnson says the UK will continue to \"in...   \n",
       "4097  There is increasing evidence that Australia is...   \n",
       "4098  The land under Beijing is sinking by as much a...   \n",
       "4099  Mounting evidence suggests 'hobbits' were wipe...   \n",
       "4100  S&amp;P revises European Union credit rating t...   \n",
       "\n",
       "                                                  Top18  \\\n",
       "0                   Kohl's successor drawn into scandal   \n",
       "1                                           Dear doctor   \n",
       "2                                   Real Madrid (Spain)   \n",
       "3                           How much can you pay for...   \n",
       "4        Return of the cane 'completely off the agenda'   \n",
       "...                                                 ...   \n",
       "4096  Richard Branson is calling on the UK governmen...   \n",
       "4097  Richard Branson, the founder of Virgin Group, ...   \n",
       "4098  Car bomb and Anti-Islamic attack on Mosque in ...   \n",
       "4099  The men who carried out Tuesday's terror attac...   \n",
       "4100  India gets $1 billion loan from World Bank for...   \n",
       "\n",
       "                                                  Top19  \\\n",
       "0                  The difference between men and women   \n",
       "1     Irish court halts IRA man's extradition to Nor...   \n",
       "2                             Raja Casablanca (Morocco)   \n",
       "3                                    Christmas glitches   \n",
       "4                      From Sleepy Hollow to Greeneland   \n",
       "...                                                 ...   \n",
       "4096             Turkey 'sorry for downing Russian jet'   \n",
       "4097  37,000-yr-old skull from Borneo reveals surpri...   \n",
       "4098  Emaciated lions in Taiz Zoo are trapped in blo...   \n",
       "4099  Calls to suspend Saudi Arabia from UN Human Ri...   \n",
       "4100  U.S. sailors detained by Iran spoke too much u...   \n",
       "\n",
       "                                                  Top20  \\\n",
       "0                   Sara Denver, nurse turned solicitor   \n",
       "1     Burundi peace initiative fades after rebels re...   \n",
       "2                                  Corinthians (Brazil)   \n",
       "3     Upending a table, Chopping a line and Scoring ...   \n",
       "4                 Blunkett outlines vision for over 11s   \n",
       "...                                                 ...   \n",
       "4096  Edward Snowden lawyer vows new push for pardon...   \n",
       "4097  Palestinians stone Western Wall worshipers; po...   \n",
       "4098  Rupert Murdoch describes Brexit as 'wonderful'...   \n",
       "4099  More Than 100 Nobel Laureates Call Out Greenpe...   \n",
       "4100  Mass fish kill in Vietnam solved as Taiwan ste...   \n",
       "\n",
       "                                                  Top21  \\\n",
       "0        Diana's landmine crusade put Tories in a panic   \n",
       "1                  PE points the way forward to the ECB   \n",
       "2                                    Tony's pet project   \n",
       "3      Scientific evidence 'unreliable', defence claims   \n",
       "4     Embattled Dobson attacks 'play now, pay later'...   \n",
       "...                                                 ...   \n",
       "4096  Brexit opinion poll reveals majority don't wan...   \n",
       "4097  Jean-Claude Juncker asks Farage: Why are you h...   \n",
       "4098       More than 40 killed in Yemen suicide attacks   \n",
       "4099  British pedophile sentenced to 85 years in US ...   \n",
       "4100  Philippines president Rodrigo Duterte urges pe...   \n",
       "\n",
       "                                                  Top22  \\\n",
       "0     Yeltsin's resignation caught opposition flat-f...   \n",
       "1     Campaigners keep up pressure on Nazi war crime...   \n",
       "2                               Al Nassr (Saudi Arabia)   \n",
       "3        Fusco wins judicial review in extradition case   \n",
       "4                                     Doom and the Dome   \n",
       "...                                                 ...   \n",
       "4096  Conservative MP Leave Campaigner: \"The leave c...   \n",
       "4097  \"Romanians for Remainians\" offering a new home...   \n",
       "4098  Google Found Disastrous Symantec and Norton Vu...   \n",
       "4099  US permitted 1,200 offshore fracks in Gulf of ...   \n",
       "4100  Spain arrests three Pakistanis accused of prom...   \n",
       "\n",
       "                                                  Top23  \\\n",
       "0                                      Russian roulette   \n",
       "1                                        Jane Ratcliffe   \n",
       "2                                     Ideal Holmes show   \n",
       "3                         Rebels thwart Russian advance   \n",
       "4                       What is the north-south divide?   \n",
       "...                                                 ...   \n",
       "4096  Economists predict UK recession, further weake...   \n",
       "4097  Brexit: Gibraltar in talks with Scotland to st...   \n",
       "4098  Extremist violence on the rise in Germany: Dom...   \n",
       "4099  We will be swimming in ridicule - French beach...   \n",
       "4100  Venezuela, where anger over food shortages is ...   \n",
       "\n",
       "                                                  Top24  \\\n",
       "0                                              Sold out   \n",
       "1     Yet more things you wouldn't know without the ...   \n",
       "2                  Pinochet leaves hospital after tests   \n",
       "3                  Blair orders shake-up of failing NHS   \n",
       "4                             Aitken released from jail   \n",
       "...                                                 ...   \n",
       "4096  New EU 'superstate plan by France, Germany: Cr...   \n",
       "4097                   8 Suicide Bombers Strike Lebanon   \n",
       "4098  BBC News: Labour MPs pass Corbyn no-confidence...   \n",
       "4099  UEFA says no minutes of silence for Istanbul v...   \n",
       "4100  A Hindu temple worker has been killed by three...   \n",
       "\n",
       "                                                  Top25  \n",
       "0                                    Recovering a title  \n",
       "1                          Millennium bug fails to bite  \n",
       "2                                          Useful links  \n",
       "3                           Lessons of law's hard heart  \n",
       "4                                            Gone aloft  \n",
       "...                                                 ...  \n",
       "4096  Pakistani clerics declare transgender marriage...  \n",
       "4097  Mexico's security forces routinely use 'sexual...  \n",
       "4098  Tiny New Zealand town with 'too many jobs' lau...  \n",
       "4099  Law Enforcement Sources: Gun Used in Paris Ter...  \n",
       "4100  Ozone layer hole seems to be healing - US &amp...  \n",
       "\n",
       "[4101 rows x 27 columns]"
      ]
     },
     "execution_count": 2,
     "metadata": {},
     "output_type": "execute_result"
    }
   ],
   "source": [
    "df = pd.read_csv('data (1).csv')\n",
    "df"
   ]
  },
  {
   "cell_type": "code",
   "execution_count": 3,
   "id": "3dc2118e-86ae-47ca-9a03-3ab2743d2701",
   "metadata": {},
   "outputs": [],
   "source": [
    "train = df[df['Date'] < '20150101']\n",
    "test = df[df['Date'] > '20141231']\n"
   ]
  },
  {
   "cell_type": "code",
   "execution_count": 4,
   "id": "d9506ce7-338d-4b80-a88d-21b77ec8b917",
   "metadata": {},
   "outputs": [
    {
     "data": {
      "text/plain": [
       "(3975, 27)"
      ]
     },
     "execution_count": 4,
     "metadata": {},
     "output_type": "execute_result"
    }
   ],
   "source": [
    "train.shape"
   ]
  },
  {
   "cell_type": "code",
   "execution_count": 5,
   "id": "c87b3efd-70d1-4262-b7b0-ef39ddc7e93a",
   "metadata": {},
   "outputs": [
    {
     "data": {
      "text/plain": [
       "(378, 27)"
      ]
     },
     "execution_count": 5,
     "metadata": {},
     "output_type": "execute_result"
    }
   ],
   "source": [
    "test.shape"
   ]
  },
  {
   "cell_type": "code",
   "execution_count": 6,
   "id": "1e89222b-0a55-41e5-90b1-b35e9145b0df",
   "metadata": {},
   "outputs": [],
   "source": [
    "import warnings\n",
    "warnings.filterwarnings(\"ignore\")"
   ]
  },
  {
   "cell_type": "code",
   "execution_count": 7,
   "id": "87d012fb-5bfc-44e8-83a0-c508c84f523b",
   "metadata": {},
   "outputs": [],
   "source": [
    "train.replace(to_replace='[^a-zA-Z]', value=' ', regex=True, inplace=True)\n",
    "test.replace(to_replace='[^a-zA-Z]', value=' ', regex=True, inplace=True)"
   ]
  },
  {
   "cell_type": "code",
   "execution_count": 8,
   "id": "867386c3-04c6-4dfc-92ee-ae05d8dbd120",
   "metadata": {},
   "outputs": [],
   "source": [
    "train_headlines = []\n",
    "test_headlines = []\n",
    "\n",
    "for row in range(0, train.shape[0]):\n",
    "  train_headlines.append(' '.join(str(x) for x in train.iloc[row, 0:25]))\n",
    "\n",
    "for row in range(0, test.shape[0]):\n",
    "  test_headlines.append(' '.join(str(x) for x in test.iloc[row, 0:25]))"
   ]
  },
  {
   "cell_type": "code",
   "execution_count": 9,
   "id": "f6b52296-2274-4f20-afec-035a54f96623",
   "metadata": {},
   "outputs": [
    {
     "data": {
      "text/plain": [
       "'           0 A  hindrance to operations   extracts from the leaked reports Scorecard Hughes  instant hit buoys Blues Jack gets his skates on at ice cold Alex Chaos as Maracana builds up for United Depleted Leicester prevail as Elliott spoils Everton s party Hungry Spurs sense rich pickings Gunners so wide of an easy target Derby raise a glass to Strupar s debut double Southgate strikes  Leeds pay the penalty Hammers hand Robson a youthful lesson Saints party like it s      Wear wolves have turned into lambs Stump mike catches testy Gough s taunt Langer escapes to hit     Flintoff injury piles on woe for England Hunters threaten Jospin with new battle of the Somme Kohl s successor drawn into scandal The difference between men and women Sara Denver  nurse turned solicitor Diana s landmine crusade put Tories in a panic Yeltsin s resignation caught opposition flat footed Russian roulette'"
      ]
     },
     "execution_count": 9,
     "metadata": {},
     "output_type": "execute_result"
    }
   ],
   "source": [
    "train_headlines[0]"
   ]
  },
  {
   "cell_type": "code",
   "execution_count": 10,
   "id": "465cf54b-5cd9-43dd-a96d-744288d4bccd",
   "metadata": {},
   "outputs": [
    {
     "data": {
      "text/plain": [
       "'           1 Most cases of cancer are the result of sheer bad luck rather than unhealthy lifestyles  diet or even inherited genes  new research suggests  Random mutations that occur in DNA when cells divide are responsible for two thirds of adult cancers across a wide range of tissues  Iran dismissed United States efforts to fight Islamic State as a ploy to advance U S  policies in the region   The reality is that the United States is not acting to eliminate Daesh  They are not even interested in weakening Daesh  they are only interested in managing it  Poll  One in   Germans would join anti Muslim marches UK royal family s Prince Andrew named in US lawsuit over underage sex allegations Some    asylum seekers refused to leave the bus when they arrived at their destination in rural northern Sweden  demanding that they be taken back to Malm or  some big city   Pakistani boat blows self up after India navy chase  All four people on board the vessel from near the Pakistani port city of Karachi are believed to have been killed in the dramatic episode in the Arabian Sea on New Year s Eve  according to India s defence ministry  Sweden hit by third mosque arson attack in a week     cars set alight during French New Year Salaries for top CEOs rose twice as fast as average Canadian since recession  study Norway violated equal pay law  judge says  Judge finds consulate employee was unjustly paid         less than her male counterpart Imam wants radical recruiters of Muslim youth in Canada identified and dealt with Saudi Arabia beheaded    people in       the most in years  A living hell  for slaves on remote South Korean islands   Slavery thrives on this chain of rural islands off South Korea s rugged southwest coast  nurtured by a long history of exploitation and the demands of trying to squeeze a living from the sea  Worlds     richest get richer  adding    bn in      Rental Car Stereos Infringe Copyright  Music Rights Group Says Ukrainian minister threatens TV channel with closure for airing Russian entertainers Palestinian President Mahmoud Abbas has entered into his most serious confrontation yet with Israel by signing onto the International Criminal Court  His decision on Wednesday gives the court jurisdiction over crimes committed in Palestinian lands  Israeli security center publishes names of    killed terrorists  concealed by Hamas  The year      was the deadliest year yet in Syria s four year conflict  with over        killed A Secret underground complex built by the Nazis that may have been used for the development of WMDs  including a nuclear bomb  has been uncovered in Austria  Restrictions on Web Freedom a Major Global Issue in      Austrian journalist Erich Mchel delivered a presentation in Hamburg at the annual meeting of the Chaos Computer Club on Monday December     detailing the various locations where the US NSA has been actively collecting and processing electronic intelligence in Vienna  Thousands of Ukraine nationalists march in Kiev'"
      ]
     },
     "execution_count": 10,
     "metadata": {},
     "output_type": "execute_result"
    }
   ],
   "source": [
    "test_headlines[0]"
   ]
  },
  {
   "cell_type": "code",
   "execution_count": 11,
   "id": "de1083c5-212e-43f5-829a-9a786df8fef7",
   "metadata": {},
   "outputs": [
    {
     "name": "stderr",
     "output_type": "stream",
     "text": [
      "[nltk_data] Downloading package stopwords to\n",
      "[nltk_data]     C:\\Users\\Premalatha\\AppData\\Roaming\\nltk_data...\n",
      "[nltk_data]   Package stopwords is already up-to-date!\n"
     ]
    }
   ],
   "source": [
    "from nltk.stem import PorterStemmer\n",
    "import nltk\n",
    "nltk.download('stopwords')\n",
    "from nltk.corpus import stopwords"
   ]
  },
  {
   "cell_type": "code",
   "execution_count": 12,
   "id": "9ef8053e-7da1-4cd1-aa02-47b344f35883",
   "metadata": {},
   "outputs": [],
   "source": [
    "from nltk.corpus import stopwords\n",
    "from nltk.stem import PorterStemmer\n",
    "from joblib import Parallel, delayed\n",
    "ps = PorterStemmer()\n",
    "stop_words = set(stopwords.words('english'))\n",
    "def preprocess_headline(headline):\n",
    "    # Tokenizing the news-title by words\n",
    "    words = headline.split()\n",
    "    \n",
    "    # Removing the stopwords and stemming the words\n",
    "    words = [ps.stem(word) for word in words if word.lower() not in stop_words]\n",
    "    \n",
    "    # Joining the stemmed words\n",
    "    return ' '.join(words)\n",
    "def preprocess_batch(headlines):\n",
    "    return [preprocess_headline(headline) for headline in headlines]\n",
    "\n",
    "# Define the number of CPU cores to use for parallel processing\n",
    "num_cores = 4  # Adjust according to your system's capabilities\n",
    "\n",
    "# Batch processing using parallel execution\n",
    "train_corpus = Parallel(n_jobs=num_cores)(\n",
    "    delayed(preprocess_batch)(train_headlines[i:i+100])  # Adjust batch size as needed\n",
    "    for i in range(0, len(train_headlines), 100)  # Adjust batch size as needed\n",
    ")\n",
    "\n",
    "# Flatten the list of lists into a single list\n",
    "train_corpus = [headline for sublist in train_corpus for headline in sublist]\n"
   ]
  },
  {
   "cell_type": "code",
   "execution_count": 13,
   "id": "49f9e7bf-a734-4815-9ec0-3e766c5d732f",
   "metadata": {},
   "outputs": [],
   "source": [
    "def preprocess_headline(headline):\n",
    "    words = headline.split()\n",
    "    words = [ps.stem(word) for word in words if word.lower() not in stop_words]\n",
    "    return ' '.join(words)\n",
    "\n",
    "def preprocess_batch(headlines):\n",
    "    return [preprocess_headline(headline) for headline in headlines]\n",
    "\n",
    "# Batch processing using parallel execution\n",
    "test_corpus = Parallel(n_jobs=num_cores)(\n",
    "    delayed(preprocess_batch)(test_headlines[i:i+100])  # Adjust batch size as needed\n",
    "    for i in range(0, len(test_headlines), 100)  # Adjust batch size as needed\n",
    ")\n",
    "\n",
    "# Flatten the list of lists into a single list\n",
    "test_corpus = [headline for sublist in test_corpus for headline in sublist]\n"
   ]
  },
  {
   "cell_type": "code",
   "execution_count": 14,
   "id": "c791f25b-4673-45f5-a60e-a38bbd456cbe",
   "metadata": {},
   "outputs": [
    {
     "data": {
      "text/plain": [
       "['0 hindranc oper extract leak report scorecard hugh instant hit buoy blue jack get skate ice cold alex chao maracana build unit deplet leicest prevail elliott spoil everton parti hungri spur sens rich pick gunner wide easi target derbi rais glass strupar debut doubl southgat strike leed pay penalti hammer hand robson youth lesson saint parti like wear wolv turn lamb stump mike catch testi gough taunt langer escap hit flintoff injuri pile woe england hunter threaten jospin new battl somm kohl successor drawn scandal differ men women sara denver nurs turn solicitor diana landmin crusad put tori panic yeltsin resign caught opposit flat foot russian roulett',\n",
       " '0 scorecard best lake scene leader german sleaz inquiri cheerio boyo main recommend cubi kill fee cubi kill fee cubi kill fee hopkin furiou foster lack hannib appetit cubi kill fee tale two tail say like like say elbow eye nippl task forc assess risk asteroid collis found last critic list time live dear doctor irish court halt ira man extradit northern ireland burundi peac initi fade rebel reject mandela mediat pe point way forward ecb campaign keep pressur nazi war crime suspect jane ratcliff',\n",
       " '0 coventri caught counter flo unit rival road rio thatcher issu defenc trial video polic help smith lay law everton tale trautmann bear two retel england rack pakistan retali call video walsh cullinan continu cape monopoli mcgrath put india miseri blair witch bandwagon roll pele turn heat ferguson parti divid kohl slush fund scandal manchest unit england women record south pole walk vasco da gama brazil south melbourn australia necaxa mexico real madrid spain raja casablanca morocco corinthian brazil toni pet project al nassr saudi arabia ideal holm show']"
      ]
     },
     "execution_count": 14,
     "metadata": {},
     "output_type": "execute_result"
    }
   ],
   "source": [
    "train_corpus[0:3]"
   ]
  },
  {
   "cell_type": "code",
   "execution_count": 15,
   "id": "a15e6c7f-144b-4e67-aeed-1f6a9a3417a9",
   "metadata": {},
   "outputs": [],
   "source": [
    "# Creating the Bag of Words model\n",
    "from sklearn.feature_extraction.text import CountVectorizer\n",
    "cv = CountVectorizer(max_features=10000, ngram_range=(2,2))\n",
    "X_train = cv.fit_transform(train_corpus).toarray()"
   ]
  },
  {
   "cell_type": "code",
   "execution_count": 16,
   "id": "a3e0a105-95e4-4082-93a0-616008569233",
   "metadata": {},
   "outputs": [],
   "source": [
    "X_test = cv.transform(test_corpus).toarray()"
   ]
  },
  {
   "cell_type": "code",
   "execution_count": 17,
   "id": "fd004bd4-1836-4d35-8101-44692f102cf5",
   "metadata": {},
   "outputs": [],
   "source": [
    "y_train = train['Label']\n",
    "train = train.iloc[:, 3:28]\n",
    "y_test = test['Label']\n",
    "test = test.iloc[:, 3:28]"
   ]
  },
  {
   "cell_type": "code",
   "execution_count": 18,
   "id": "8ee7107c-3e44-42ff-9d70-b98853fa535f",
   "metadata": {},
   "outputs": [
    {
     "data": {
      "text/html": [
       "<style>#sk-container-id-1 {color: black;background-color: white;}#sk-container-id-1 pre{padding: 0;}#sk-container-id-1 div.sk-toggleable {background-color: white;}#sk-container-id-1 label.sk-toggleable__label {cursor: pointer;display: block;width: 100%;margin-bottom: 0;padding: 0.3em;box-sizing: border-box;text-align: center;}#sk-container-id-1 label.sk-toggleable__label-arrow:before {content: \"▸\";float: left;margin-right: 0.25em;color: #696969;}#sk-container-id-1 label.sk-toggleable__label-arrow:hover:before {color: black;}#sk-container-id-1 div.sk-estimator:hover label.sk-toggleable__label-arrow:before {color: black;}#sk-container-id-1 div.sk-toggleable__content {max-height: 0;max-width: 0;overflow: hidden;text-align: left;background-color: #f0f8ff;}#sk-container-id-1 div.sk-toggleable__content pre {margin: 0.2em;color: black;border-radius: 0.25em;background-color: #f0f8ff;}#sk-container-id-1 input.sk-toggleable__control:checked~div.sk-toggleable__content {max-height: 200px;max-width: 100%;overflow: auto;}#sk-container-id-1 input.sk-toggleable__control:checked~label.sk-toggleable__label-arrow:before {content: \"▾\";}#sk-container-id-1 div.sk-estimator input.sk-toggleable__control:checked~label.sk-toggleable__label {background-color: #d4ebff;}#sk-container-id-1 div.sk-label input.sk-toggleable__control:checked~label.sk-toggleable__label {background-color: #d4ebff;}#sk-container-id-1 input.sk-hidden--visually {border: 0;clip: rect(1px 1px 1px 1px);clip: rect(1px, 1px, 1px, 1px);height: 1px;margin: -1px;overflow: hidden;padding: 0;position: absolute;width: 1px;}#sk-container-id-1 div.sk-estimator {font-family: monospace;background-color: #f0f8ff;border: 1px dotted black;border-radius: 0.25em;box-sizing: border-box;margin-bottom: 0.5em;}#sk-container-id-1 div.sk-estimator:hover {background-color: #d4ebff;}#sk-container-id-1 div.sk-parallel-item::after {content: \"\";width: 100%;border-bottom: 1px solid gray;flex-grow: 1;}#sk-container-id-1 div.sk-label:hover label.sk-toggleable__label {background-color: #d4ebff;}#sk-container-id-1 div.sk-serial::before {content: \"\";position: absolute;border-left: 1px solid gray;box-sizing: border-box;top: 0;bottom: 0;left: 50%;z-index: 0;}#sk-container-id-1 div.sk-serial {display: flex;flex-direction: column;align-items: center;background-color: white;padding-right: 0.2em;padding-left: 0.2em;position: relative;}#sk-container-id-1 div.sk-item {position: relative;z-index: 1;}#sk-container-id-1 div.sk-parallel {display: flex;align-items: stretch;justify-content: center;background-color: white;position: relative;}#sk-container-id-1 div.sk-item::before, #sk-container-id-1 div.sk-parallel-item::before {content: \"\";position: absolute;border-left: 1px solid gray;box-sizing: border-box;top: 0;bottom: 0;left: 50%;z-index: -1;}#sk-container-id-1 div.sk-parallel-item {display: flex;flex-direction: column;z-index: 1;position: relative;background-color: white;}#sk-container-id-1 div.sk-parallel-item:first-child::after {align-self: flex-end;width: 50%;}#sk-container-id-1 div.sk-parallel-item:last-child::after {align-self: flex-start;width: 50%;}#sk-container-id-1 div.sk-parallel-item:only-child::after {width: 0;}#sk-container-id-1 div.sk-dashed-wrapped {border: 1px dashed gray;margin: 0 0.4em 0.5em 0.4em;box-sizing: border-box;padding-bottom: 0.4em;background-color: white;}#sk-container-id-1 div.sk-label label {font-family: monospace;font-weight: bold;display: inline-block;line-height: 1.2em;}#sk-container-id-1 div.sk-label-container {text-align: center;}#sk-container-id-1 div.sk-container {/* jupyter's `normalize.less` sets `[hidden] { display: none; }` but bootstrap.min.css set `[hidden] { display: none !important; }` so we also need the `!important` here to be able to override the default hidden behavior on the sphinx rendered scikit-learn.org. See: https://github.com/scikit-learn/scikit-learn/issues/21755 */display: inline-block !important;position: relative;}#sk-container-id-1 div.sk-text-repr-fallback {display: none;}</style><div id=\"sk-container-id-1\" class=\"sk-top-container\"><div class=\"sk-text-repr-fallback\"><pre>LogisticRegression()</pre><b>In a Jupyter environment, please rerun this cell to show the HTML representation or trust the notebook. <br />On GitHub, the HTML representation is unable to render, please try loading this page with nbviewer.org.</b></div><div class=\"sk-container\" hidden><div class=\"sk-item\"><div class=\"sk-estimator sk-toggleable\"><input class=\"sk-toggleable__control sk-hidden--visually\" id=\"sk-estimator-id-1\" type=\"checkbox\" checked><label for=\"sk-estimator-id-1\" class=\"sk-toggleable__label sk-toggleable__label-arrow\">LogisticRegression</label><div class=\"sk-toggleable__content\"><pre>LogisticRegression()</pre></div></div></div></div></div>"
      ],
      "text/plain": [
       "LogisticRegression()"
      ]
     },
     "execution_count": 18,
     "metadata": {},
     "output_type": "execute_result"
    }
   ],
   "source": [
    "from sklearn.linear_model import LogisticRegression\n",
    "lr= LogisticRegression()\n",
    "lr.fit(X_train, y_train)"
   ]
  },
  {
   "cell_type": "code",
   "execution_count": 19,
   "id": "9d0a4e25-f0fb-46c1-b757-5ff618d4e5b5",
   "metadata": {},
   "outputs": [
    {
     "data": {
      "text/plain": [
       "0.9919496855345912"
      ]
     },
     "execution_count": 19,
     "metadata": {},
     "output_type": "execute_result"
    }
   ],
   "source": [
    "lr.score(X_train,y_train)"
   ]
  },
  {
   "cell_type": "code",
   "execution_count": 20,
   "id": "e51e80b4-8bdb-46ac-8871-4a4efe898242",
   "metadata": {},
   "outputs": [
    {
     "data": {
      "text/plain": [
       "0.828042328042328"
      ]
     },
     "execution_count": 20,
     "metadata": {},
     "output_type": "execute_result"
    }
   ],
   "source": [
    "lr.score(X_test,y_test)"
   ]
  },
  {
   "cell_type": "code",
   "execution_count": 21,
   "id": "6a54a09f-ac3d-4af8-90f3-a2c6132236fe",
   "metadata": {},
   "outputs": [
    {
     "data": {
      "text/html": [
       "<style>#sk-container-id-2 {color: black;background-color: white;}#sk-container-id-2 pre{padding: 0;}#sk-container-id-2 div.sk-toggleable {background-color: white;}#sk-container-id-2 label.sk-toggleable__label {cursor: pointer;display: block;width: 100%;margin-bottom: 0;padding: 0.3em;box-sizing: border-box;text-align: center;}#sk-container-id-2 label.sk-toggleable__label-arrow:before {content: \"▸\";float: left;margin-right: 0.25em;color: #696969;}#sk-container-id-2 label.sk-toggleable__label-arrow:hover:before {color: black;}#sk-container-id-2 div.sk-estimator:hover label.sk-toggleable__label-arrow:before {color: black;}#sk-container-id-2 div.sk-toggleable__content {max-height: 0;max-width: 0;overflow: hidden;text-align: left;background-color: #f0f8ff;}#sk-container-id-2 div.sk-toggleable__content pre {margin: 0.2em;color: black;border-radius: 0.25em;background-color: #f0f8ff;}#sk-container-id-2 input.sk-toggleable__control:checked~div.sk-toggleable__content {max-height: 200px;max-width: 100%;overflow: auto;}#sk-container-id-2 input.sk-toggleable__control:checked~label.sk-toggleable__label-arrow:before {content: \"▾\";}#sk-container-id-2 div.sk-estimator input.sk-toggleable__control:checked~label.sk-toggleable__label {background-color: #d4ebff;}#sk-container-id-2 div.sk-label input.sk-toggleable__control:checked~label.sk-toggleable__label {background-color: #d4ebff;}#sk-container-id-2 input.sk-hidden--visually {border: 0;clip: rect(1px 1px 1px 1px);clip: rect(1px, 1px, 1px, 1px);height: 1px;margin: -1px;overflow: hidden;padding: 0;position: absolute;width: 1px;}#sk-container-id-2 div.sk-estimator {font-family: monospace;background-color: #f0f8ff;border: 1px dotted black;border-radius: 0.25em;box-sizing: border-box;margin-bottom: 0.5em;}#sk-container-id-2 div.sk-estimator:hover {background-color: #d4ebff;}#sk-container-id-2 div.sk-parallel-item::after {content: \"\";width: 100%;border-bottom: 1px solid gray;flex-grow: 1;}#sk-container-id-2 div.sk-label:hover label.sk-toggleable__label {background-color: #d4ebff;}#sk-container-id-2 div.sk-serial::before {content: \"\";position: absolute;border-left: 1px solid gray;box-sizing: border-box;top: 0;bottom: 0;left: 50%;z-index: 0;}#sk-container-id-2 div.sk-serial {display: flex;flex-direction: column;align-items: center;background-color: white;padding-right: 0.2em;padding-left: 0.2em;position: relative;}#sk-container-id-2 div.sk-item {position: relative;z-index: 1;}#sk-container-id-2 div.sk-parallel {display: flex;align-items: stretch;justify-content: center;background-color: white;position: relative;}#sk-container-id-2 div.sk-item::before, #sk-container-id-2 div.sk-parallel-item::before {content: \"\";position: absolute;border-left: 1px solid gray;box-sizing: border-box;top: 0;bottom: 0;left: 50%;z-index: -1;}#sk-container-id-2 div.sk-parallel-item {display: flex;flex-direction: column;z-index: 1;position: relative;background-color: white;}#sk-container-id-2 div.sk-parallel-item:first-child::after {align-self: flex-end;width: 50%;}#sk-container-id-2 div.sk-parallel-item:last-child::after {align-self: flex-start;width: 50%;}#sk-container-id-2 div.sk-parallel-item:only-child::after {width: 0;}#sk-container-id-2 div.sk-dashed-wrapped {border: 1px dashed gray;margin: 0 0.4em 0.5em 0.4em;box-sizing: border-box;padding-bottom: 0.4em;background-color: white;}#sk-container-id-2 div.sk-label label {font-family: monospace;font-weight: bold;display: inline-block;line-height: 1.2em;}#sk-container-id-2 div.sk-label-container {text-align: center;}#sk-container-id-2 div.sk-container {/* jupyter's `normalize.less` sets `[hidden] { display: none; }` but bootstrap.min.css set `[hidden] { display: none !important; }` so we also need the `!important` here to be able to override the default hidden behavior on the sphinx rendered scikit-learn.org. See: https://github.com/scikit-learn/scikit-learn/issues/21755 */display: inline-block !important;position: relative;}#sk-container-id-2 div.sk-text-repr-fallback {display: none;}</style><div id=\"sk-container-id-2\" class=\"sk-top-container\"><div class=\"sk-text-repr-fallback\"><pre>MultinomialNB()</pre><b>In a Jupyter environment, please rerun this cell to show the HTML representation or trust the notebook. <br />On GitHub, the HTML representation is unable to render, please try loading this page with nbviewer.org.</b></div><div class=\"sk-container\" hidden><div class=\"sk-item\"><div class=\"sk-estimator sk-toggleable\"><input class=\"sk-toggleable__control sk-hidden--visually\" id=\"sk-estimator-id-2\" type=\"checkbox\" checked><label for=\"sk-estimator-id-2\" class=\"sk-toggleable__label sk-toggleable__label-arrow\">MultinomialNB</label><div class=\"sk-toggleable__content\"><pre>MultinomialNB()</pre></div></div></div></div></div>"
      ],
      "text/plain": [
       "MultinomialNB()"
      ]
     },
     "execution_count": 21,
     "metadata": {},
     "output_type": "execute_result"
    }
   ],
   "source": [
    "from sklearn.naive_bayes import MultinomialNB\n",
    "nb_classifier = MultinomialNB()\n",
    "nb_classifier.fit(X_train, y_train)"
   ]
  },
  {
   "cell_type": "code",
   "execution_count": 22,
   "id": "fbadfe8e-023d-4736-845d-79a08f739084",
   "metadata": {},
   "outputs": [
    {
     "data": {
      "text/plain": [
       "0.9021383647798742"
      ]
     },
     "execution_count": 22,
     "metadata": {},
     "output_type": "execute_result"
    }
   ],
   "source": [
    "nb_classifier.score(X_train,y_train)"
   ]
  },
  {
   "cell_type": "code",
   "execution_count": 23,
   "id": "914cc862-98ad-4881-9829-10e92485c535",
   "metadata": {},
   "outputs": [
    {
     "data": {
      "text/plain": [
       "0.8068783068783069"
      ]
     },
     "execution_count": 23,
     "metadata": {},
     "output_type": "execute_result"
    }
   ],
   "source": [
    "nb_classifier.score(X_test,y_test)"
   ]
  },
  {
   "cell_type": "code",
   "execution_count": 32,
   "id": "77c0983a-e479-44ec-9bd5-86ebcc42c5de",
   "metadata": {},
   "outputs": [],
   "source": [
    "from tensorflow.keras.preprocessing.text import one_hot, Tokenizer"
   ]
  },
  {
   "cell_type": "code",
   "execution_count": 35,
   "id": "a349eff3-dc9e-4cb6-9c91-ba279ec64b7f",
   "metadata": {},
   "outputs": [],
   "source": [
    "\n",
    "from keras.preprocessing.sequence import pad_sequences\n",
    "\n",
    "# Tokenize the text data\n",
    "tokenizer = Tokenizer()\n",
    "tokenizer.fit_on_texts(train_corpus)\n",
    "\n",
    "# Convert text data to sequences of word indices\n",
    "X_train_seq = tokenizer.texts_to_sequences(train_corpus)\n",
    "X_test_seq = tokenizer.texts_to_sequences(test_corpus)\n",
    "\n",
    "# Pad sequences to ensure uniform length\n",
    "max_length = max([len(seq) for seq in X_train_seq])\n",
    "X_train_padded = pad_sequences(X_train_seq, maxlen=max_length, padding='post')\n",
    "X_test_padded = pad_sequences(X_test_seq, maxlen=max_length, padding='post')\n"
   ]
  },
  {
   "cell_type": "code",
   "execution_count": 37,
   "id": "b4053b2e-f4b2-4366-8702-c49df9c057ee",
   "metadata": {},
   "outputs": [
    {
     "data": {
      "text/html": [
       "<pre style=\"white-space:pre;overflow-x:auto;line-height:normal;font-family:Menlo,'DejaVu Sans Mono',consolas,'Courier New',monospace\"><span style=\"font-weight: bold\">Model: \"sequential_2\"</span>\n",
       "</pre>\n"
      ],
      "text/plain": [
       "\u001b[1mModel: \"sequential_2\"\u001b[0m\n"
      ]
     },
     "metadata": {},
     "output_type": "display_data"
    },
    {
     "data": {
      "text/html": [
       "<pre style=\"white-space:pre;overflow-x:auto;line-height:normal;font-family:Menlo,'DejaVu Sans Mono',consolas,'Courier New',monospace\">┏━━━━━━━━━━━━━━━━━━━━━━━━━━━━━━━━━━━━━━┳━━━━━━━━━━━━━━━━━━━━━━━━━━━━━┳━━━━━━━━━━━━━━━━━┓\n",
       "┃<span style=\"font-weight: bold\"> Layer (type)                         </span>┃<span style=\"font-weight: bold\"> Output Shape                </span>┃<span style=\"font-weight: bold\">         Param # </span>┃\n",
       "┡━━━━━━━━━━━━━━━━━━━━━━━━━━━━━━━━━━━━━━╇━━━━━━━━━━━━━━━━━━━━━━━━━━━━━╇━━━━━━━━━━━━━━━━━┩\n",
       "│ embedding_1 (<span style=\"color: #0087ff; text-decoration-color: #0087ff\">Embedding</span>)              │ ?                           │     <span style=\"color: #00af00; text-decoration-color: #00af00\">0</span> (unbuilt) │\n",
       "├──────────────────────────────────────┼─────────────────────────────┼─────────────────┤\n",
       "│ lstm (<span style=\"color: #0087ff; text-decoration-color: #0087ff\">LSTM</span>)                          │ ?                           │     <span style=\"color: #00af00; text-decoration-color: #00af00\">0</span> (unbuilt) │\n",
       "├──────────────────────────────────────┼─────────────────────────────┼─────────────────┤\n",
       "│ dense_1 (<span style=\"color: #0087ff; text-decoration-color: #0087ff\">Dense</span>)                      │ ?                           │     <span style=\"color: #00af00; text-decoration-color: #00af00\">0</span> (unbuilt) │\n",
       "└──────────────────────────────────────┴─────────────────────────────┴─────────────────┘\n",
       "</pre>\n"
      ],
      "text/plain": [
       "┏━━━━━━━━━━━━━━━━━━━━━━━━━━━━━━━━━━━━━━┳━━━━━━━━━━━━━━━━━━━━━━━━━━━━━┳━━━━━━━━━━━━━━━━━┓\n",
       "┃\u001b[1m \u001b[0m\u001b[1mLayer (type)                        \u001b[0m\u001b[1m \u001b[0m┃\u001b[1m \u001b[0m\u001b[1mOutput Shape               \u001b[0m\u001b[1m \u001b[0m┃\u001b[1m \u001b[0m\u001b[1m        Param #\u001b[0m\u001b[1m \u001b[0m┃\n",
       "┡━━━━━━━━━━━━━━━━━━━━━━━━━━━━━━━━━━━━━━╇━━━━━━━━━━━━━━━━━━━━━━━━━━━━━╇━━━━━━━━━━━━━━━━━┩\n",
       "│ embedding_1 (\u001b[38;5;33mEmbedding\u001b[0m)              │ ?                           │     \u001b[38;5;34m0\u001b[0m (unbuilt) │\n",
       "├──────────────────────────────────────┼─────────────────────────────┼─────────────────┤\n",
       "│ lstm (\u001b[38;5;33mLSTM\u001b[0m)                          │ ?                           │     \u001b[38;5;34m0\u001b[0m (unbuilt) │\n",
       "├──────────────────────────────────────┼─────────────────────────────┼─────────────────┤\n",
       "│ dense_1 (\u001b[38;5;33mDense\u001b[0m)                      │ ?                           │     \u001b[38;5;34m0\u001b[0m (unbuilt) │\n",
       "└──────────────────────────────────────┴─────────────────────────────┴─────────────────┘\n"
      ]
     },
     "metadata": {},
     "output_type": "display_data"
    },
    {
     "data": {
      "text/html": [
       "<pre style=\"white-space:pre;overflow-x:auto;line-height:normal;font-family:Menlo,'DejaVu Sans Mono',consolas,'Courier New',monospace\"><span style=\"font-weight: bold\"> Total params: </span><span style=\"color: #00af00; text-decoration-color: #00af00\">0</span> (0.00 B)\n",
       "</pre>\n"
      ],
      "text/plain": [
       "\u001b[1m Total params: \u001b[0m\u001b[38;5;34m0\u001b[0m (0.00 B)\n"
      ]
     },
     "metadata": {},
     "output_type": "display_data"
    },
    {
     "data": {
      "text/html": [
       "<pre style=\"white-space:pre;overflow-x:auto;line-height:normal;font-family:Menlo,'DejaVu Sans Mono',consolas,'Courier New',monospace\"><span style=\"font-weight: bold\"> Trainable params: </span><span style=\"color: #00af00; text-decoration-color: #00af00\">0</span> (0.00 B)\n",
       "</pre>\n"
      ],
      "text/plain": [
       "\u001b[1m Trainable params: \u001b[0m\u001b[38;5;34m0\u001b[0m (0.00 B)\n"
      ]
     },
     "metadata": {},
     "output_type": "display_data"
    },
    {
     "data": {
      "text/html": [
       "<pre style=\"white-space:pre;overflow-x:auto;line-height:normal;font-family:Menlo,'DejaVu Sans Mono',consolas,'Courier New',monospace\"><span style=\"font-weight: bold\"> Non-trainable params: </span><span style=\"color: #00af00; text-decoration-color: #00af00\">0</span> (0.00 B)\n",
       "</pre>\n"
      ],
      "text/plain": [
       "\u001b[1m Non-trainable params: \u001b[0m\u001b[38;5;34m0\u001b[0m (0.00 B)\n"
      ]
     },
     "metadata": {},
     "output_type": "display_data"
    },
    {
     "name": "stdout",
     "output_type": "stream",
     "text": [
      "None\n"
     ]
    }
   ],
   "source": [
    "from keras.models import Sequential\n",
    "from keras.layers import Embedding, LSTM, Dense\n",
    "\n",
    "# Define the RNN model\n",
    "model = Sequential()\n",
    "model.add(Embedding(input_dim=len(tokenizer.word_index)+1, output_dim=100))\n",
    "model.add(LSTM(units=100))\n",
    "model.add(Dense(units=1, activation='sigmoid'))\n",
    "\n",
    "# Compile the model\n",
    "model.compile(optimizer='adam', loss='binary_crossentropy', metrics=['accuracy'])\n",
    "\n",
    "# Print model summary\n",
    "print(model.summary())\n"
   ]
  },
  {
   "cell_type": "code",
   "execution_count": null,
   "id": "d0d39439-11dc-400f-9c11-f0b3971cf970",
   "metadata": {},
   "outputs": [],
   "source": []
  }
 ],
 "metadata": {
  "kernelspec": {
   "display_name": "Python 3 (ipykernel)",
   "language": "python",
   "name": "python3"
  },
  "language_info": {
   "codemirror_mode": {
    "name": "ipython",
    "version": 3
   },
   "file_extension": ".py",
   "mimetype": "text/x-python",
   "name": "python",
   "nbconvert_exporter": "python",
   "pygments_lexer": "ipython3",
   "version": "3.11.7"
  },
  "widgets": {
   "application/vnd.jupyter.widget-state+json": {
    "state": {},
    "version_major": 2,
    "version_minor": 0
   }
  }
 },
 "nbformat": 4,
 "nbformat_minor": 5
}
